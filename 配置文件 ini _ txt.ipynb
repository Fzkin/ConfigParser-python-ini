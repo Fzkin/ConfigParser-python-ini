{
 "cells": [
  {
   "cell_type": "markdown",
   "metadata": {},
   "source": [
    "# 一、ConfigParser简介"
   ]
  },
  {
   "cell_type": "markdown",
   "metadata": {},
   "source": [
    "ConfigParser 是用来读取配置文件的包。配置文件的格式如下：中括号“[ ]”内包含的为section。section 下面为类似于key-value 的配置内容。"
   ]
  },
  {
   "cell_type": "code",
   "execution_count": null,
   "metadata": {},
   "outputs": [],
   "source": [
    "[db]\n",
    "db_host = 127.0.0.1\n",
    "db_port = 69\n",
    "db_user = root\n",
    "db_pass = root\n",
    "host_port = 69\n",
    "\n",
    "[concurrent]\n",
    "thread = 10\n",
    "processor = 20"
   ]
  },
  {
   "cell_type": "markdown",
   "metadata": {},
   "source": [
    "括号“[ ]”内包含的为section。紧接着section 为类似于key-value 的options 的配置内容。"
   ]
  },
  {
   "cell_type": "markdown",
   "metadata": {},
   "source": [
    "# 二、ConfigParser 初始化对象"
   ]
  },
  {
   "cell_type": "markdown",
   "metadata": {},
   "source": [
    "使用ConfigParser 首选需要初始化实例，并读取配置文件："
   ]
  },
  {
   "cell_type": "code",
   "execution_count": null,
   "metadata": {},
   "outputs": [],
   "source": [
    "import configparser\n",
    "config = configparser.ConfigParser()\n",
    "config.read(\"mysql.ini\", encoding=\"utf-8\")"
   ]
  },
  {
   "cell_type": "markdown",
   "metadata": {},
   "source": [
    "# 三、ConfigParser 常用方法"
   ]
  },
  {
   "cell_type": "markdown",
   "metadata": {},
   "source": [
    "### 1、获取所用的section节点"
   ]
  },
  {
   "cell_type": "code",
   "execution_count": null,
   "metadata": {},
   "outputs": [],
   "source": [
    "# 获取所用的section节点\n",
    "import configparser\n",
    "config = configparser.ConfigParser()\n",
    "config.read(\"ini\", encoding=\"utf-8\")\n",
    "print(config.sections())\n",
    "#运行结果\n",
    "# ['db', 'concurrent']"
   ]
  },
  {
   "cell_type": "markdown",
   "metadata": {},
   "source": [
    "### 2、获取指定section 的options。即将配置文件某个section 内key 读取到列表中："
   ]
  },
  {
   "cell_type": "code",
   "execution_count": null,
   "metadata": {},
   "outputs": [],
   "source": [
    "import configparser\n",
    "config = configparser.ConfigParser()\n",
    "config.read(\"ini\", encoding=\"utf-8\")\n",
    "r = config.options(\"db\")\n",
    "print(r)\n",
    "#运行结果\n",
    "# ['db_host', 'db_port', 'db_user', 'db_pass', 'host_port']"
   ]
  },
  {
   "cell_type": "markdown",
   "metadata": {},
   "source": [
    "### 3、获取指点section下指点option的值"
   ]
  },
  {
   "cell_type": "code",
   "execution_count": null,
   "metadata": {},
   "outputs": [],
   "source": [
    "import configparser\n",
    "config = configparser.ConfigParser()\n",
    "config.read(\"ini\", encoding=\"utf-8\")\n",
    "r = config.get(\"db\", \"db_host\")\n",
    "# r1 = config.getint(\"db\", \"k1\") #将获取到值转换为int型\n",
    "# r2 = config.getboolean(\"db\", \"k2\" ) #将获取到值转换为bool型\n",
    "# r3 = config.getfloat(\"db\", \"k3\" ) #将获取到值转换为浮点型\n",
    "print(r)\n",
    "#运行结果\n",
    "# 127.0.0.1"
   ]
  },
  {
   "cell_type": "markdown",
   "metadata": {},
   "source": [
    "### 4、获取指点section的所用配置信息"
   ]
  },
  {
   "cell_type": "code",
   "execution_count": null,
   "metadata": {},
   "outputs": [],
   "source": [
    "import configparser\n",
    "config = configparser.ConfigParser()\n",
    "config.read(\"ini\", encoding=\"utf-8\")\n",
    "r = config.items(\"db\")\n",
    "print(r)\n",
    "#运行结果\n",
    "#[('db_host', '127.0.0.1'), ('db_port', '69'), ('db_user', 'root'), ('db_pass', 'root'), ('host_port', '69')]"
   ]
  },
  {
   "cell_type": "markdown",
   "metadata": {},
   "source": [
    "### 5、修改某个option的值，如果不存在则会出创建"
   ]
  },
  {
   "cell_type": "code",
   "execution_count": null,
   "metadata": {},
   "outputs": [],
   "source": [
    "# 修改某个option的值，如果不存在该option 则会创建\n",
    "import configparser\n",
    "config = configparser.ConfigParser()\n",
    "config.read(\"ini\", encoding=\"utf-8\")\n",
    "config.set(\"db\", \"db_port\", \"69\")  #修改db_port的值为69\n",
    "config.write(open(\"ini\", \"w\"))"
   ]
  },
  {
   "cell_type": "markdown",
   "metadata": {},
   "source": [
    "### 6、检查section或option是否存在，bool值"
   ]
  },
  {
   "cell_type": "code",
   "execution_count": null,
   "metadata": {},
   "outputs": [],
   "source": [
    "import configparser\n",
    "config = configparser.ConfigParser()\n",
    "config.has_section(\"section\") #是否存在该section\n",
    "config.has_option(\"section\", \"option\")  #是否存在该option"
   ]
  },
  {
   "cell_type": "markdown",
   "metadata": {},
   "source": [
    "### 7、添加section 和 option"
   ]
  },
  {
   "cell_type": "code",
   "execution_count": null,
   "metadata": {},
   "outputs": [],
   "source": [
    "import configparser\n",
    "config = configparser.ConfigParser()\n",
    "config.read(\"ini\", encoding=\"utf-8\")\n",
    "if not config.has_section(\"default\"):  # 检查是否存在section\n",
    "    config.add_section(\"default\")\n",
    "if not config.has_option(\"default\", \"db_host\"):  # 检查是否存在该option\n",
    "    config.set(\"default\", \"db_host\", \"1.1.1.1\")\n",
    "config.write(open(\"ini\", \"w\"))"
   ]
  },
  {
   "cell_type": "markdown",
   "metadata": {},
   "source": [
    "### 8、删除section 和 option"
   ]
  },
  {
   "cell_type": "code",
   "execution_count": null,
   "metadata": {},
   "outputs": [],
   "source": [
    "import configparser\n",
    "config = configparser.ConfigParser()\n",
    "config.read(\"ini\", encoding=\"utf-8\")\n",
    "config.remove_section(\"default\") #整个section下的所有内容都将删除\n",
    "config.write(open(\"ini\", \"w\"))"
   ]
  },
  {
   "cell_type": "markdown",
   "metadata": {},
   "source": [
    "### 9、写入文件"
   ]
  },
  {
   "cell_type": "code",
   "execution_count": null,
   "metadata": {},
   "outputs": [],
   "source": [
    "#以下的几行代码只是将文件内容读取到内存中，进过一系列操作之后必须写回文件，才能生效。\n",
    "\n",
    "import configparser\n",
    "config = configparser.ConfigParser()\n",
    "config.read(\"ini\", encoding=\"utf-8\")\n",
    "写回文件的方式如下：（使用configparser的write方法）\n",
    "\n",
    "config.write(open(\"ini\", \"w\"))"
   ]
  },
  {
   "cell_type": "markdown",
   "metadata": {},
   "source": []
  }
 ],
 "metadata": {
  "kernelspec": {
   "display_name": "Python 3",
   "language": "python",
   "name": "python3"
  },
  "language_info": {
   "codemirror_mode": {
    "name": "ipython",
    "version": 3
   },
   "file_extension": ".py",
   "mimetype": "text/x-python",
   "name": "python",
   "nbconvert_exporter": "python",
   "pygments_lexer": "ipython3",
   "version": "3.7.1"
  }
 },
 "nbformat": 4,
 "nbformat_minor": 4
}
